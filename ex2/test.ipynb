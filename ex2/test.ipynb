{
 "cells": [
  {
   "cell_type": "code",
   "execution_count": 69,
   "metadata": {},
   "outputs": [],
   "source": [
    "import numpy as np\n",
    "from cvxopt import solvers, matrix, spmatrix, spdiag, sparse\n",
    "import matplotlib.pyplot as plt\n",
    "from softsvm import fix_small_eigvals\n",
    "# unlimited np output\n",
    "np.set_printoptions(threshold=np.inf)\n",
    "\n",
    "def K(dot_res, k):\n",
    "    \"\"\"\n",
    "    :param dot_res: dot product of two np.arrays\n",
    "    :param k: the power of the poly kernel\n",
    "    :return: (1 + dot_res)^k\n",
    "    \"\"\"\n",
    "    return np.power(1 + dot_res, k)\n",
    "\n",
    "# todo: complete the following functions, you may add auxiliary functions or define class to help you\n",
    "\n",
    "\n",
    "def softsvmpoly(l: float, k: int, trainX: np.array, trainy: np.array):\n",
    "    \"\"\"\n",
    "\n",
    "    :param l: the parameter lambda of the soft SVM algorithm\n",
    "    :param sigma: the bandwidth parameter sigma of the RBF kernel.\n",
    "    :param trainX: numpy array of size (m, d) containing the training sample\n",
    "    :param trainy: numpy array of size (m, 1) containing the labels of the training sample\n",
    "    :return: numpy array of size (m, 1) which describes the coefficients found by the algorithm\n",
    "    \"\"\"\n",
    "    m, d = trainX.shape\n",
    "\n",
    "    G = np.dot(trainX, trainX.T)\n",
    "    # apply k to every item in G\n",
    "    G = np.vectorize(lambda x: K(x, k))(G)\n",
    "\n",
    "    H = np.pad(float(2) * l * G, [(0, m), (0, m)])\n",
    "    H = fix_small_eigvals(H)\n",
    "\n",
    "    A = np.block([[np.zeros((m, m)), np.identity(m)],\n",
    "                  [G * trainy.reshape(-1, 1), np.identity(m)]])\n",
    "\n",
    "    u = np.hstack((np.full(m, 0), np.full(m, 1/m)))\n",
    "\n",
    "    v = np.hstack((np.zeros(m), np.ones(m)))\n",
    "  \n",
    "    z = solvers.qp(matrix(H), matrix(u), -matrix(A), -matrix(v))\n",
    "    alphas = np.array(z[\"x\"])[:m]\n",
    "    return alphas\n"
   ]
  },
  {
   "cell_type": "code",
   "execution_count": 70,
   "metadata": {},
   "outputs": [],
   "source": [
    "def simple_test():\n",
    "    # load question 2 data\n",
    "    data = np.load('EX2q2_mnist.npz')\n",
    "    trainX = data['Xtrain']\n",
    "    testX = data['Xtest']\n",
    "    trainy = data['Ytrain']\n",
    "    testy = data['Ytest']\n",
    "\n",
    "    m = 100\n",
    "\n",
    "    # Get a random m training examples from the training set\n",
    "    indices = np.random.permutation(trainX.shape[0])\n",
    "    _trainX = trainX[indices[:m]]\n",
    "    _trainy = trainy[indices[:m]]\n",
    "\n",
    "    # run the softsvmpoly algorithm\n",
    "    w = softsvmpoly(10, 5, _trainX, _trainy)\n",
    "\n",
    "    # tests to make sure the output is of the intended class and shape\n",
    "    assert isinstance(w, np.ndarray), \"The output of the function softsvmbf should be a numpy array\"\n",
    "    assert w.shape[0] == m and w.shape[1] == 1, f\"The shape of the output should be ({m}, 1) but its {w.shape}\""
   ]
  },
  {
   "cell_type": "code",
   "execution_count": 71,
   "metadata": {},
   "outputs": [
    {
     "name": "stdout",
     "output_type": "stream",
     "text": [
      "     pcost       dcost       gap    pres   dres\n",
      " 0: -9.9999e-03  1.0000e+00  2e+02  1e+00  1e+11\n",
      " 1:  9.7039e-01 -1.9703e+00  3e+00  1e-02  1e+09\n",
      " 2:  2.5568e-01 -1.2728e-02  3e-01  1e-04  1e+07\n",
      " 3:  2.7233e-03 -1.0761e-04  3e-03  2e-06  1e+05\n",
      " 4:  1.6713e-04 -6.5156e-06  2e-04  9e-08  7e+03\n",
      "Terminated (singular KKT matrix).\n"
     ]
    }
   ],
   "source": [
    "simple_test()\n"
   ]
  }
 ],
 "metadata": {
  "kernelspec": {
   "display_name": "Python 3.7.0 ('venv': venv)",
   "language": "python",
   "name": "python3"
  },
  "language_info": {
   "codemirror_mode": {
    "name": "ipython",
    "version": 3
   },
   "file_extension": ".py",
   "mimetype": "text/x-python",
   "name": "python",
   "nbconvert_exporter": "python",
   "pygments_lexer": "ipython3",
   "version": "3.7.0"
  },
  "orig_nbformat": 4,
  "vscode": {
   "interpreter": {
    "hash": "aff64bc35335dd000713d244f29b12f0fc32611f8142e09ca33f4cc1397c5fe6"
   }
  }
 },
 "nbformat": 4,
 "nbformat_minor": 2
}
