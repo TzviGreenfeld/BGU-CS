{
 "cells": [
  {
   "cell_type": "code",
   "execution_count": null,
   "metadata": {},
   "outputs": [],
   "source": [
    "def softsvm(l, trainX: np.array, trainy: np.array):\n",
    "    \"\"\"\n",
    "    :param l: the parameter lambda of the soft SVM algorithm\n",
    "    :param trainX: numpy array of size (m, d) containing the training sample\n",
    "    :param trainy: numpy array of size (m, 1) containing the labels of the training sample\n",
    "    :return: linear predictor w, a numpy array of size (d, 1)\n",
    "    \"\"\"\n",
    "    def hinge_loss(w, xi, yi):\n",
    "        \"\"\"\n",
    "        :param w: a liner seperator\n",
    "        :param xi: numpy array of size (1, d) containing a sample\n",
    "        :param yi: int in {-1, 1} represents the label pf \\xi\\ \n",
    "        :return: float represents the hinge loss of w on xi\n",
    "        \"\"\"\n",
    "        if yi not in {-1, 1}:\n",
    "            raise ValueError(f\"Wrong Label:\\n yi = {yi}\")\n",
    "\n",
    "        if w.shape != xi.shape:\n",
    "            raise ValueError(f\"Dimensions Error:\\n w.shape = {w.shape}\\t xiw.shape = {xi.shape}\")\n",
    "        return max(0, 1 - (yi * np.inner(w, xi)))\n",
    "    \n",
    "    w = None # TODO: implement w calc\n",
    "\n",
    "    # m = sample size\n",
    "    m = trainX.shape[0]\n",
    "    sample_hinge_loss = (1 / m) * sum([hinge_loss(w, xi, yi) for  xi, yi in zip(trainX, trainy)])\n",
    "\n",
    "    # soft-SVM minimize p(w)\n",
    "    # p(w) = punishment\n",
    "    p = lambda w: l * np.power(np.inner(w,w), 2) + sample_hinge_loss\n"
   ]
  }
 ],
 "metadata": {
  "kernelspec": {
   "display_name": "Python 3.7.0 ('venv': venv)",
   "language": "python",
   "name": "python3"
  },
  "language_info": {
   "name": "python",
   "version": "3.7.0"
  },
  "orig_nbformat": 4,
  "vscode": {
   "interpreter": {
    "hash": "aff64bc35335dd000713d244f29b12f0fc32611f8142e09ca33f4cc1397c5fe6"
   }
  }
 },
 "nbformat": 4,
 "nbformat_minor": 2
}
