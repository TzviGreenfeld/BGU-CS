{
 "cells": [
  {
   "cell_type": "code",
   "execution_count": 72,
   "metadata": {},
   "outputs": [],
   "source": [
    "import numpy as np\n",
    "from cvxopt import solvers, matrix, spmatrix, spdiag, sparse\n",
    "import matplotlib.pyplot as plt\n",
    "data = np.load('ex2q2_mnist.npz', allow_pickle=True)"
   ]
  },
  {
   "cell_type": "code",
   "execution_count": 73,
   "metadata": {},
   "outputs": [],
   "source": [
    "def softsvm(l, trainX: np.array, trainy: np.array):\n",
    "    \"\"\"\n",
    "    :param l: the parameter lambda of the soft SVM algorithm\n",
    "    :param trainX: numpy array of size (m, d) containing the training sample\n",
    "    :param trainy: numpy array of size (m, 1) containing the labels of the training sample\n",
    "    :return: linear predictor w, a numpy array of size (d, 1)\n",
    "    \"\"\"\n",
    "    m, d = trainX.shape\n",
    "    u = np.concatenate((np.full(d, 0), np.full(m, 1/m)))\n",
    "    H = np.zeros((d + m, d + m))\n",
    "    for i in range(d):\n",
    "        H[i][i] = 2 * l\n",
    "        \n",
    "    A_top_left = np.zeros((m, d))\n",
    "    A_top_right = np.identity(m)\n",
    "    A_bottom_left = trainX * trainy.reshape(-1, 1)\n",
    "    A_bottom_right = np.identity(m)\n",
    "    A = np.vstack([np.hstack([A_top_left, A_top_right]),\n",
    "                   np.hstack([A_bottom_left, A_bottom_right])])\n",
    "    \n",
    "    v = np.hstack((np.zeros(m), np.ones(m)))\n",
    "    sol = solvers.qp(matrix(H), matrix(u), -matrix(A), -matrix(v))\n",
    "    w = np.array(sol[\"x\"])[:d]\n",
    "    return w\n"
   ]
  },
  {
   "cell_type": "code",
   "execution_count": 74,
   "metadata": {},
   "outputs": [],
   "source": [
    "def predict_svm(w: np.array, x_test: np.array):\n",
    "    predictions = np.array([[np.sign(test @ w) for test in x_test]])\n",
    "    return predictions\n",
    "\n",
    "def simple_test():\n",
    "    # load question 2 data\n",
    "    # data = np.load('ex2q2_mnist.npz')\n",
    "    trainX = data['Xtrain']\n",
    "    testX = data['Xtest']\n",
    "    trainy = data['Ytrain']\n",
    "    testy = data['Ytest']\n",
    "\n",
    "    m = 100\n",
    "    d = trainX.shape[1]\n",
    "\n",
    "    # Get a random m training examples from the training set\n",
    "    indices = np.random.permutation(trainX.shape[0])\n",
    "    _trainX = trainX[indices[:m]]\n",
    "    _trainy = trainy[indices[:m]]\n",
    "\n",
    "    # run the softsvm algorithm\n",
    "    w = softsvm(10, _trainX, _trainy)\n",
    "\n",
    "    # tests to make sure the output is of the intended class and shape\n",
    "    assert isinstance(w, np.ndarray), \"The output of the function softsvm should be a numpy array\"\n",
    "    assert w.shape[0] == d and w.shape[1] == 1, f\"The shape of the output should be ({d}, 1)\"\n",
    "\n",
    "    # get a random example from the test set, and classify it\n",
    "    i = np.random.randint(0, testX.shape[0])\n",
    "    predicty = np.sign(testX[i] @ w)\n",
    "\n",
    "    # this line should print the classification of the i'th test sample (1 or -1).\n",
    "    print(f\"The {i}'th test sample was classified as {predicty}\")"
   ]
  },
  {
   "cell_type": "code",
   "execution_count": 75,
   "metadata": {},
   "outputs": [
    {
     "name": "stdout",
     "output_type": "stream",
     "text": [
      "     pcost       dcost       gap    pres   dres\n",
      " 0: -9.0413e-03  1.0010e+00  2e+02  1e+00  8e+04\n",
      " 1:  9.7142e-01 -1.9790e+00  3e+00  1e-02  8e+02\n",
      " 2:  2.6678e-01 -2.2585e-02  3e-01  3e-04  1e+01\n",
      " 3:  6.2202e-02 -4.1471e-03  7e-02  5e-05  3e+00\n",
      " 4:  1.5012e-02 -4.2793e-04  2e-02  1e-05  6e-01\n",
      " 5:  1.7828e-03  5.8769e-04  1e-03  7e-07  4e-02\n",
      " 6:  7.5936e-04  6.7308e-04  9e-05  4e-08  2e-03\n",
      " 7:  6.9057e-04  6.8448e-04  6e-06  2e-09  1e-04\n",
      " 8:  6.8608e-04  6.8591e-04  2e-07  3e-11  1e-06\n",
      " 9:  6.8597e-04  6.8597e-04  4e-09  4e-13  2e-08\n",
      "Optimal solution found.\n",
      "The 969'th test sample was classified as [-1.]\n"
     ]
    }
   ],
   "source": [
    "simple_test()"
   ]
  }
 ],
 "metadata": {
  "kernelspec": {
   "display_name": "Python 3.7.0 ('venv': venv)",
   "language": "python",
   "name": "python3"
  },
  "language_info": {
   "codemirror_mode": {
    "name": "ipython",
    "version": 3
   },
   "file_extension": ".py",
   "mimetype": "text/x-python",
   "name": "python",
   "nbconvert_exporter": "python",
   "pygments_lexer": "ipython3",
   "version": "3.7.0"
  },
  "orig_nbformat": 4,
  "vscode": {
   "interpreter": {
    "hash": "aff64bc35335dd000713d244f29b12f0fc32611f8142e09ca33f4cc1397c5fe6"
   }
  }
 },
 "nbformat": 4,
 "nbformat_minor": 2
}
