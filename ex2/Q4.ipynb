{
 "cells": [
  {
   "cell_type": "code",
   "execution_count": 3,
   "metadata": {},
   "outputs": [],
   "source": [
    "import numpy as np\n",
    "from cvxopt import solvers, matrix, spmatrix, spdiag, sparse\n",
    "import matplotlib.pyplot as plt\n",
    "import matplotlib.colors as colors\n",
    "from softsvm import softsvm, fix_small_eigvals, error, get_random_sample\n",
    "import softsvm\n",
    "\n",
    "data = np.load('ex2q4_data.npz')\n",
    "trainX, testX = data['Xtrain'], data['Xtest']\n",
    "trainY, testY = data['Ytrain'], data['Ytest']"
   ]
  },
  {
   "cell_type": "code",
   "execution_count": 4,
   "metadata": {},
   "outputs": [],
   "source": [
    "def K(xi, xj, k):\n",
    "    \"\"\"\n",
    "    :param xi, xj: two vectors of the same dimension\n",
    "    :param k: the degree of the poly kernel\n",
    "    :return: (1 + dot_res)^k\n",
    "    \"\"\"\n",
    "    # sanity check\n",
    "    assert xi.shape == xj.shape, \"xi and xj should be of the same shape\\ngot xi.shape = {}, xj.shape = {}\".format(xi.shape, xj.shape)\n",
    "    return np.power(np.dot(xi, xj) + 1.0, k)"
   ]
  },
  {
   "cell_type": "code",
   "execution_count": 5,
   "metadata": {},
   "outputs": [],
   "source": [
    "def get_gram_matrix(X, k):\n",
    "    m = X.shape[0]\n",
    "    G = np.zeros((m, m))\n",
    "    for row in range(m):\n",
    "        for col in range(row ,m):\n",
    "            G[col, row] = G[row, col] = K(X[row], X[col], k)\n",
    "    return G\n",
    "    "
   ]
  },
  {
   "cell_type": "code",
   "execution_count": 6,
   "metadata": {},
   "outputs": [],
   "source": [
    "def softsvmpoly(l: float, k: float, trainX: np.array, trainy: np.array):\n",
    "    \"\"\"\n",
    "    :param l: the parameter lambda of the soft SVM algorithm\n",
    "    :param sigma: the bandwidth parameter sigma of the RBF kernel.\n",
    "    :param trainX: numpy array of size (m, d) containing the training sample\n",
    "    :param trainy: numpy array of size (m, 1) containing the labels of the training sample\n",
    "    :return: numpy array of size (m, 1) which describes the coefficients found by the algorithm\n",
    "    \"\"\"\n",
    "    m, d = trainX.shape\n",
    "    \n",
    "    G = get_gram_matrix(trainX, k)\n",
    "\n",
    "    H = np.pad(float(2 * l) * G, [(0, m), (0, m)])\n",
    "    H = fix_small_eigvals(H)\n",
    "\n",
    "    A = np.block([[np.zeros((m, m)), np.identity(m)],\n",
    "                  [G * trainy.reshape(-1, 1), np.identity(m)]])\n",
    "\n",
    "    u = np.hstack((np.full(m, float(0)), np.full(m, 1/m)))\n",
    "\n",
    "    v = np.hstack((np.zeros(m), np.ones(m)))\n",
    "  \n",
    "    z = solvers.qp(matrix(H), matrix(u), -matrix(A), -matrix(v))\n",
    "    alphas = np.array(z[\"x\"])[:m]\n",
    "    return alphas"
   ]
  },
  {
   "cell_type": "code",
   "execution_count": 7,
   "metadata": {},
   "outputs": [],
   "source": [
    "def cartesian_product(set_a: np.array, set_b: np.array):\n",
    "    return [(ai, bi) for ai in set_a for bi in set_b]"
   ]
  },
  {
   "cell_type": "code",
   "execution_count": 8,
   "metadata": {},
   "outputs": [],
   "source": [
    "def predict_single_sample(alphas: np.array, k: int, sample: np.array, trainX: np.array):\n",
    "    train_kernels = np.array([K(sample, xi, k) for xi in trainX])\n",
    "    return np.sign(np.dot(train_kernels, alphas))\n"
   ]
  },
  {
   "cell_type": "code",
   "execution_count": 9,
   "metadata": {},
   "outputs": [],
   "source": [
    "def predict(alphas: np.array, k: int, testX: np.array, trainX: np.array):\n",
    "    \"\"\"\n",
    "    :param alphas: numpy array of size (m, 1) containing the coefficients of the soft SVM algorithm\n",
    "    :param testX: numpy array of size (m, d) containing the test sample\n",
    "    :param k: int, the degree of the poly kernel\n",
    "    :return: numpy array of size (m, 1) containing the predicted labels of the test sample\n",
    "    \"\"\"\n",
    "    \n",
    "    return np.array([predict_single_sample(alphas, k, sample, trainX) for sample in testX])"
   ]
  },
  {
   "cell_type": "code",
   "execution_count": 10,
   "metadata": {},
   "outputs": [],
   "source": [
    "def split_data(folds: int):\n",
    "    X_chunks = np.array(np.split(trainX, folds))\n",
    "    Y_chunks = np.array(np.split(trainY, folds))\n",
    "    splitted = []\n",
    "    shp = X_chunks.shape\n",
    "    for i in range(folds):\n",
    "        test, test_labales = X_chunks[i], Y_chunks[i]\n",
    "        # current test set is the the entire train besides the current chunk used for training\n",
    "        train = np.concatenate(np.delete(X_chunks, i, axis=0))\n",
    "        train_labales = np.concatenate(np.delete(Y_chunks, i, axis=0))\n",
    "        splitted.append({\"train\": train,\n",
    "                        \"train_labales\": train_labales,\n",
    "                        \"test\": test,\n",
    "                        \"test_labales\": test_labales})\n",
    "    return np.array(splitted)"
   ]
  },
  {
   "cell_type": "code",
   "execution_count": 11,
   "metadata": {},
   "outputs": [],
   "source": [
    "def log_l_k(dict, source):\n",
    "    with open (\"cross validation sorted results.txt\", \"a+\") as f:\n",
    "        f.write(source + \"\\n\")\n",
    "        for k, v in sorted(dict.items(), key=lambda x: x[1]):\n",
    "            f.write(\"{}: {}\\n\".format(k, v))"
   ]
  },
  {
   "cell_type": "code",
   "execution_count": 12,
   "metadata": {},
   "outputs": [],
   "source": [
    "def poly_cross_validation(lambdas: np.array, ks, folds: int):\n",
    "    \"\"\"\n",
    "    find pair (lambda, k) with the lowest validation error, and get classifier based on that pair\n",
    "    :param lambdas: the lambda parameters to use\n",
    "    :param ks: the k parameters to use in the kernel function\n",
    "    :param folds: number of chunks we split the data to\n",
    "    :return: prediction of test set of classifier trained on the entire train set using best lambda and k found\n",
    "    \"\"\"\n",
    "    # poly softSVM\n",
    "    errors = {(l, k): 0 for l, k in cartesian_product(lambdas, ks)}\n",
    "    a = split_data(folds)\n",
    "    for fold in split_data(folds):\n",
    "        for l, k in cartesian_product(lambdas, ks):\n",
    "            print(l,k)\n",
    "            alphas = softsvmpoly(l, k, fold[\"train\"], fold[\"train_labales\"])\n",
    "            predicted = predict(alphas, k, fold[\"test\"], fold[\"train\"])\n",
    "            # continuesly calculate the avg error\n",
    "            errors[(l, k)] += error(fold[\"test_labales\"], predicted) / folds\n",
    "    \n",
    "    # get the pair with lowest avg error\n",
    "    best_lambda, best_k = min(errors.items(), key=lambda x: x[1])[0]\n",
    "    log_l_k(errors, \"poly kernel softsvm errors by (lambda, k):\")\n",
    "    print(f\"best_lambda={best_lambda}, best_k={best_k}\")\n",
    "    alphas = softsvmpoly(best_lambda, best_k, trainX, trainY)\n",
    "    return predict(alphas, best_k, testX, trainX)"
   ]
  },
  {
   "cell_type": "code",
   "execution_count": 13,
   "metadata": {},
   "outputs": [],
   "source": [
    "def softsvm_cross_validation(lambdas, folds):\n",
    "    errors = {l: 0 for l in lambdas}\n",
    "    for fold in split_data(folds):\n",
    "        for l in lambdas:\n",
    "            w = softsvm.softsvm(l, fold[\"train\"], fold[\"train_labales\"])\n",
    "            errors[l] += error(fold[\"test_labales\"], softsvm.predict(w, fold[\"test\"])) / folds\n",
    "    \n",
    "    # get the l with lowest avg error\n",
    "    best_lambda = min(errors.items(), key=lambda x: x[1])[0]\n",
    "\n",
    "    log_l_k(errors, \"linear softsvm errors by (lambda, k):\")\n",
    "    print(f\"best_lambda={best_lambda}\")\n",
    "    w = softsvm.softsvm(best_lambda, trainX, trainY)\n",
    "    return softsvm.predict(w, testX)"
   ]
  },
  {
   "cell_type": "code",
   "execution_count": 14,
   "metadata": {},
   "outputs": [],
   "source": [
    "def cross_validation_error():\n",
    "    lambdas = np.array([1.0, 10.0, 100.0])\n",
    "    ks = np.array([2.0, 5.0, 8.0])\n",
    "    k_folds = 5\n",
    "    # polynomial kernel\n",
    "    poly_predicions = poly_cross_validation(lambdas, ks, folds=k_folds)\n",
    "    poly_error = error(testY, poly_predicions)\n",
    "    # best_lambda=10.0, best_k=5.0\n",
    "\n",
    "    # linear softsvm\n",
    "    soft_svm_predictions = softsvm_cross_validation(lambdas, folds=k_folds)\n",
    "    soft_svm_error =  error(testY, soft_svm_predictions)\n",
    "    # best_lambda=1.0\n",
    "\n",
    "    print(f\"soft_svm_error={soft_svm_error}\\t poly_error={poly_error}\\n {soft_svm_error > poly_error}\")\n",
    "# cross_validation_error()\n"
   ]
  },
  {
   "cell_type": "code",
   "execution_count": null,
   "metadata": {},
   "outputs": [],
   "source": [
    "def Q4_e():\n",
    "    def plot_predictor(l, k, alphas, ax):\n",
    "        step_size = 0.02\n",
    "        x = np.arange(trainX[:, 0].min(), trainX[:, 0].max(), step_size)\n",
    "        y = np.arange(trainX[:, 1].min(), trainX[:, 1].max(), step_size)\n",
    "\n",
    "        grid = [[predict_single_sample(alphas, k, np.array([xi, yi]), trainX) for xi in x] for yi in reversed(y)]   \n",
    "        ax.imshow(grid, cmap='coolwarm', extent=[-1, 1, 1, -1])\n",
    "        ax.set_title(f\"λ={int(l)} k={int(k)}\")\n",
    "\n",
    "    l = 100.0\n",
    "    ks = np.array([3.0, 5.0, 8.0])\n",
    "\n",
    "    # Create a figure with 3 subplots\n",
    "    fig, axs = plt.subplots(1, 3, figsize=(10, 5))\n",
    "    # set space between subplots\n",
    "    fig.subplots_adjust(wspace=0.5)\n",
    "\n",
    "    for ax, k in zip(axs, ks):\n",
    "        alphas = softsvmpoly(l, k, trainX, trainY)\n",
    "        plot_predictor(l ,k, alphas, ax)\n",
    "    plt.savefig(\"Q4_e.png\")\n",
    "    plt.show()\n",
    "\n",
    "# Q4_e()"
   ]
  },
  {
   "cell_type": "code",
   "execution_count": 18,
   "metadata": {},
   "outputs": [
    {
     "name": "stdout",
     "output_type": "stream",
     "text": [
      "     pcost       dcost       gap    pres   dres\n",
      " 0:  3.3390e+01  2.2433e+02  6e+03  3e+00  6e+04\n",
      " 1:  1.4686e+01 -3.9133e+02  4e+02  2e-01  4e+03\n",
      " 2:  5.3499e+00 -8.6400e+00  1e+01  3e-03  7e+01\n",
      " 3:  2.7127e+00  8.2213e-01  2e+00  4e-16  2e-13\n",
      " 4:  1.5961e+00  1.3632e+00  2e-01  3e-16  6e-14\n",
      " 5:  1.4934e+00  1.4905e+00  3e-03  2e-16  6e-14\n",
      " 6:  1.4923e+00  1.4923e+00  3e-05  2e-16  6e-14\n",
      " 7:  1.4923e+00  1.4923e+00  3e-07  2e-16  6e-14\n",
      "Optimal solution found.\n",
      "     pcost       dcost       gap    pres   dres\n",
      " 0:  2.6100e+01  1.8561e+02  6e+03  3e+00  2e+05\n",
      " 1:  1.2371e+01 -2.8933e+02  3e+02  1e-01  9e+03\n",
      " 2:  5.4044e+00 -2.7043e+01  3e+01  1e-02  8e+02\n",
      " 3:  3.8978e+00  5.6522e-01  3e+00  5e-16  1e-12\n",
      " 4:  1.6516e+00  1.3651e+00  3e-01  4e-16  3e-13\n",
      " 5:  1.4789e+00  1.4747e+00  4e-03  2e-16  2e-13\n",
      " 6:  1.4770e+00  1.4769e+00  4e-05  2e-16  2e-13\n",
      " 7:  1.4770e+00  1.4770e+00  4e-07  2e-16  2e-13\n",
      "Optimal solution found.\n",
      "     pcost       dcost       gap    pres   dres\n",
      " 0:  2.0762e+01  1.4429e+02  5e+03  2e+00  1e+06\n",
      " 1:  9.4476e+00 -2.8091e+02  3e+02  1e-01  8e+04\n",
      " 2:  5.0245e+00 -2.4409e+01  3e+01  1e-02  6e+03\n",
      " 3:  3.5239e+00  4.5961e-01  3e+00  7e-16  7e-12\n",
      " 4:  1.5204e+00  1.2371e+00  3e-01  5e-16  2e-12\n",
      " 5:  1.3897e+00  1.3564e+00  3e-02  3e-16  1e-12\n",
      " 6:  1.3771e+00  1.3694e+00  8e-03  3e-16  2e-12\n",
      " 7:  1.3737e+00  1.3727e+00  1e-03  3e-16  1e-12\n",
      " 8:  1.3732e+00  1.3732e+00  2e-05  3e-16  1e-12\n",
      " 9:  1.3732e+00  1.3732e+00  2e-07  3e-16  1e-11\n",
      "Optimal solution found.\n"
     ]
    },
    {
     "data": {
      "image/png": "[encoded data removed]",
      "text/plain": [
       "<Figure size 1000x500 with 3 Axes>"
      ]
     },
     "metadata": {},
     "output_type": "display_data"
    }
   ],
   "source": [
    "import threading\n",
    "def Q4_e_threaded():\n",
    "    def plot_predictor(l, k, alphas, ax):\n",
    "        step_size = 0.02\n",
    "        x = np.arange(trainX[:, 0].min(), trainX[:, 0].max(), step_size)\n",
    "        y = np.arange(trainX[:, 1].min(), trainX[:, 1].max(), step_size)\n",
    "\n",
    "        grid = [[predict_single_sample(alphas, k, np.array([xi, yi]), trainX) for xi in x] for yi in reversed(y)]   \n",
    "        ax.imshow(grid, cmap='coolwarm', extent=[-1, 1, 1, -1])\n",
    "        ax.set_title(f\"λ={int(l)} k={int(k)}\")\n",
    "\n",
    "    l = 100.0\n",
    "    ks = np.array([3.0, 5.0, 8.0])\n",
    "    \n",
    "    # Create a figure with 3 subplots\n",
    "    fig, axs = plt.subplots(1, 3, figsize=(10, 5))\n",
    "    # set space between subplots\n",
    "    fig.subplots_adjust(wspace=0.5)\n",
    "\n",
    "    # plot in parallel\n",
    "    threads = []\n",
    "    for ax, k in zip(axs, ks):\n",
    "        t = threading.Thread(target=plot_predictor, args=(l, k, softsvmpoly(l, k, trainX, trainY), ax))\n",
    "        t.start()\n",
    "        threads.append(t)\n",
    "\n",
    "    # make sure all threads are done before saving the figure\n",
    "    for t in threads:\n",
    "        t.join()\n",
    "    \n",
    "    plt.savefig(\"Q4_e.png\")\n",
    "    plt.show()\n",
    "\n",
    "Q4_e_threaded()\n"
   ]
  }
 ],
 "metadata": {
  "kernelspec": {
   "display_name": ".venv",
   "language": "python",
   "name": "python3"
  },
  "language_info": {
   "codemirror_mode": {
    "name": "ipython",
    "version": 3
   },
   "file_extension": ".py",
   "mimetype": "text/x-python",
   "name": "python",
   "nbconvert_exporter": "python",
   "pygments_lexer": "ipython3",
   "version": "3.7.0"
  },
  "orig_nbformat": 4,
  "vscode": {
   "interpreter": {
    "hash": "08ed5fa07ca9cd55beeef47f224bbbd5867169d4ebe490c55adacd701e94c428"
   }
  }
 },
 "nbformat": 4,
 "nbformat_minor": 2
}
