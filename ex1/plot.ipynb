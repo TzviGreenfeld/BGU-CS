{
 "cells": [
  {
   "cell_type": "code",
   "execution_count": null,
   "metadata": {},
   "outputs": [],
   "source": [
    "import numpy as np\n",
    "import matplotlib.pyplot as plt\n",
    "from nearest_neighbour import learnknn, predictknn, gensmallm\n",
    "data = np.load('mnist_all.npz', allow_pickle=True)"
   ]
  },
  {
   "cell_type": "code",
   "execution_count": null,
   "metadata": {},
   "outputs": [],
   "source": [
    "labels = [2,3,5,6]\n",
    "train_sampels = [data[f\"train{i}\"] for i in labels]\n",
    "test_sampels = np.concatenate([data[f\"test{i}\"] for i in labels])\n",
    "test_lables = np.concatenate([np.full(data[f\"test{val}\"].shape[0], val) for val in labels]).reshape(-1, 1)\n",
    "\n",
    "def corrupt(X, Y):\n",
    "    labels = np.float64([2,3,5,6])\n",
    "    m = X.shape[0]\n",
    "    prcnt = 0.15\n",
    "    indices = [0,0]\n",
    "    while len(indices) != len(np.unique(indices)):\n",
    "        indices = np.random.randint(0, high=m, size=int(m * prcnt), dtype=int)\n",
    "    \n",
    "    for i in indices:\n",
    "        curr_label = Y[i]\n",
    "        Y[i] = np.random.choice([l for l in labels if l != curr_label])\n",
    "    \n",
    "    return X,Y\n",
    "\n",
    "def get_avg_err(m, k, corrupt=False):\n",
    "    print(f\"m={m}\")\n",
    "    err = []\n",
    "    for i in range(10):\n",
    "        (X, Y) = gensmallm(train_sampels, labels, m)\n",
    "        if corrupt:\n",
    "            (X, Y) = corrupt(X, Y)\n",
    "        classifier = learnknn(k, X, Y)\n",
    "        predicted = np.array([classifier(sample) for sample in test_sampels]).reshape(-1, 1)\n",
    "        curr_err = np.count_nonzero(np.array(test_lables != predicted)) / len(predicted)\n",
    "        err.append(curr_err)\n",
    "\n",
    "    return (min(err), max(err), sum(err)/10)"
   ]
  },
  {
   "cell_type": "markdown",
   "metadata": {},
   "source": [
    "### Question 1.a\n"
   ]
  },
  {
   "cell_type": "code",
   "execution_count": null,
   "metadata": {},
   "outputs": [],
   "source": [
    "sample_size = np.arange(10, 110, 10)\n",
    "\n",
    "err = [get_avg_err(m,1) for m in sample_size]\n",
    "min_errors, max_errors, avg_errors = zip(*err)"
   ]
  },
  {
   "cell_type": "code",
   "execution_count": null,
   "metadata": {},
   "outputs": [],
   "source": [
    "plt.figure(figsize = (10,4))\n",
    "ax = plt.axes()\n",
    "ax.set(xlabel=\"sample size\", ylabel= \"error\",\n",
    "       title=\"MNIST 1-NN error as a function of sample size\",\n",
    "       xticks=sample_size);\n",
    "\n",
    "bar_width = 1\n",
    "for i, min_err, max_err in zip(sample_size, min_errors, max_errors):\n",
    "    plt.bar(i - bar_width/2, min_err, color='red', alpha=0.5, width=bar_width)\n",
    "    plt.bar(i + bar_width/2, max_err, color='black',  alpha=0.5, width=bar_width)\n",
    "\n",
    "plt.plot(sample_size, avg_errors, linewidth=3)\n",
    "plt.legend([\"Averege Error over 10 iterations\", \"Min Error\", \"Max Error\"])\n",
    "plt.show()\n"
   ]
  },
  {
   "cell_type": "markdown",
   "metadata": {},
   "source": [
    "### Question 1.e"
   ]
  },
  {
   "cell_type": "code",
   "execution_count": null,
   "metadata": {},
   "outputs": [],
   "source": [
    "ks = [i for i in range(1,12)]\n",
    "errors = [get_avg_err(200, k) for k in ks]"
   ]
  },
  {
   "cell_type": "code",
   "execution_count": null,
   "metadata": {},
   "outputs": [],
   "source": [
    "min_err, max_err, avg_err = zip(*errors)\n",
    "\n",
    "plt.figure(figsize = (10,4))\n",
    "ax = plt.axes()\n",
    "ax.set(xlabel=\"k\", ylabel= \"error\",\n",
    "    title=\"fixed m=200 MNIST error as function of k\",\n",
    "    xticks=ks);\n",
    "\n",
    "# min/max error bars\n",
    "bar_width = 0.15\n",
    "for i, min_err, max_err in zip(ks, min_err, max_err):\n",
    "    plt.bar(i - bar_width/2, min_err, color='red', alpha=0.5, width=bar_width)\n",
    "    plt.bar(i + bar_width/2, max_err, color='black',  alpha=0.5, width=bar_width)\n",
    "\n",
    "plt.plot(ks, avg_err, linewidth=3)\n",
    "plt.legend([\"Averege Error over 10 interations\", \"Min Error\", \"Max Error\"], loc='best')\n",
    "plt.show()"
   ]
  },
  {
   "cell_type": "markdown",
   "metadata": {},
   "source": [
    "### Question 1.f"
   ]
  },
  {
   "cell_type": "code",
   "execution_count": null,
   "metadata": {},
   "outputs": [],
   "source": [
    "ks = [i for i in range(1,12)]\n",
    "errors = [get_avg_err(200, k, corrupt=True) for k in ks]"
   ]
  },
  {
   "cell_type": "code",
   "execution_count": null,
   "metadata": {},
   "outputs": [],
   "source": [
    "\n",
    "min_err, max_err, avg_err = zip(*errors)\n",
    "\n",
    "plt.figure(figsize = (10,4))\n",
    "ax = plt.axes()\n",
    "ax.set(xlabel=\"k\", ylabel= \"error\",\n",
    "    title=\"fixed m=200 MNIST error as function of k\",\n",
    "    xticks=ks);\n",
    "\n",
    "# min/max error bars\n",
    "bar_width = 0.15\n",
    "for i, min_err, max_err in zip(ks, min_err, max_err):\n",
    "    plt.bar(i - bar_width/2, min_err, color='red', alpha=0.5, width=bar_width)\n",
    "    plt.bar(i + bar_width/2, max_err, color='black',  alpha=0.5, width=bar_width)\n",
    "\n",
    "plt.plot(ks, avg_err, linewidth=3)\n",
    "plt.legend([\"Averege Error over 10 interations\", \"Min Error\", \"Max Error\"], loc='best')\n",
    "plt.show()"
   ]
  }
 ],
 "metadata": {
  "kernelspec": {
   "display_name": "Python 3.7.0 ('venv': venv)",
   "language": "python",
   "name": "python3"
  },
  "language_info": {
   "codemirror_mode": {
    "name": "ipython",
    "version": 3
   },
   "file_extension": ".py",
   "mimetype": "text/x-python",
   "name": "python",
   "nbconvert_exporter": "python",
   "pygments_lexer": "ipython3",
   "version": "3.7.0"
  },
  "orig_nbformat": 4,
  "vscode": {
   "interpreter": {
    "hash": "aff64bc35335dd000713d244f29b12f0fc32611f8142e09ca33f4cc1397c5fe6"
   }
  }
 },
 "nbformat": 4,
 "nbformat_minor": 2
}
