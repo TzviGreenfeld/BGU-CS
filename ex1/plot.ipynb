{
 "cells": [
  {
   "cell_type": "code",
   "execution_count": null,
   "metadata": {},
   "outputs": [],
   "source": [
    "import numpy as np\n",
    "import matplotlib.pyplot as plt\n",
    "from nearest_neighbour import learnknn, predictknn, gensmallm\n",
    "data = np.load('mnist_all.npz', allow_pickle=True)"
   ]
  },
  {
   "cell_type": "code",
   "execution_count": null,
   "metadata": {},
   "outputs": [],
   "source": [
    "imgs = []\n",
    "for i in range(10):\n",
    "    imgs.append(data[f'train{i}'][0].reshape(28,28))\n",
    "    plt.figure(figsize = (3,0.6))\n",
    "    plt.axis('off')\n",
    "    plt.imshow(imgs[i], cmap='gray')"
   ]
  },
  {
   "cell_type": "code",
   "execution_count": null,
   "metadata": {},
   "outputs": [],
   "source": [
    "labels = [2,3,5,6]\n",
    "train_sampels = [data[f\"train{i}\"] for i in labels]\n",
    "test_sampels = np.concatenate([data[f\"test{i}\"] for i in labels])\n",
    "test_lables = np.concatenate([np.full(data[f\"test{val}\"].shape[0], val) for val in labels]).reshape(-1, 1)\n",
    "np.concatenate(test_sampels)\n",
    "\n",
    "def get_avg_err(m, k):\n",
    "    print(f\"m={m}\")\n",
    "    err = []\n",
    "    for i in range(10):\n",
    "        (X, Y) = gensmallm(train_sampels, labels, m)\n",
    "        classifier = learnknn(k, X, Y)\n",
    "        predicted = np.array([classifier(sample) for sample in test_sampels]).reshape(-1, 1)\n",
    "        curr_err = np.count_nonzero(np.array(test_lables != predicted)) / len(predicted)\n",
    "        err.append(curr_err)\n",
    "\n",
    "    return (min(err), max(err), sum(err)/10)\n"
   ]
  },
  {
   "cell_type": "code",
   "execution_count": null,
   "metadata": {},
   "outputs": [],
   "source": [
    "sample_size = np.arange(10, 110, 10)\n",
    "\n",
    "err = [get_avg_err(m,1) for m in sample_size]\n",
    "min_errors = [e[0] for e in err]\n",
    "max_errors = [e[1] for e in err]\n",
    "avg_errors = [e[2] for e in err]"
   ]
  },
  {
   "cell_type": "code",
   "execution_count": null,
   "metadata": {},
   "outputs": [],
   "source": [
    "plt.title(\"ERRORS\")\n",
    "plt.xlabel(\"sample size\")\n",
    "plt.ylabel(\"avg error over 10 interations\")\n",
    "\n",
    "bar_width = 1\n",
    "for i, min_err, max_err in zip(sample_size, min_errors, max_errors):\n",
    "    plt.bar(i - bar_width/2, min_err, color='red', alpha=0.5, width=bar_width)\n",
    "    plt.bar(i + bar_width/2, max_err, color='black',  alpha=0.5, width=bar_width)\n",
    "\n",
    "plt.xticks(sample_size)\n",
    "plt.plot(sample_size, avg_errors, linewidth=3)\n",
    "plt.legend([\"Max Error\", \"Min Error\",\"Averege Error\"])\n",
    "plt.show()\n"
   ]
  },
  {
   "cell_type": "code",
   "execution_count": null,
   "metadata": {},
   "outputs": [],
   "source": [
    "ks = [i for i in range(1,12)]\n",
    "errors = [get_avg_err(200, k) for k in ks]"
   ]
  },
  {
   "cell_type": "code",
   "execution_count": null,
   "metadata": {},
   "outputs": [],
   "source": [
    "min_errors = [e[0] for e in errors]\n",
    "max_errors = [e[1] for e in errors]\n",
    "avg_errors = [e[2] for e in errors]\n",
    "plt.title(\"fixed k=200 ERRORS\")\n",
    "plt.xlabel(\"k\")\n",
    "plt.ylabel(\"avg error over 10 interations\")\n",
    "\n",
    "bar_width = 1\n",
    "for i, min_err, max_err in zip(ks, min_errors, max_errors):\n",
    "    plt.bar(i - bar_width/2, min_err, color='red', alpha=0.5, width=1)\n",
    "    plt.bar(i + bar_width/2, max_err, color='black',  alpha=0.5, width=1)\n",
    "\n",
    "plt.plot(ks, avg_errors, linewidth=3)"
   ]
  }
 ],
 "metadata": {
  "kernelspec": {
   "display_name": "Python 3.7.0 ('venv': venv)",
   "language": "python",
   "name": "python3"
  },
  "language_info": {
   "codemirror_mode": {
    "name": "ipython",
    "version": 3
   },
   "file_extension": ".py",
   "mimetype": "text/x-python",
   "name": "python",
   "nbconvert_exporter": "python",
   "pygments_lexer": "ipython3",
   "version": "3.7.0"
  },
  "orig_nbformat": 4,
  "vscode": {
   "interpreter": {
    "hash": "aff64bc35335dd000713d244f29b12f0fc32611f8142e09ca33f4cc1397c5fe6"
   }
  }
 },
 "nbformat": 4,
 "nbformat_minor": 2
}
