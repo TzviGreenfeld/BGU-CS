{
 "cells": [
  {
   "cell_type": "code",
   "execution_count": 2,
   "metadata": {},
   "outputs": [],
   "source": [
    "import numpy as np\n",
    "import matplotlib.pyplot as plt\n",
    "path = \"G:\\\\My Drive\\\\uni\\\\Machine Learning intro\\\\Introduction-To-Machine-Learning\\\\ex3\\\\mnist_all.npz\"\n",
    "np.set_printoptions(threshold=np.inf)\n",
    "data = np.load(path)"
   ]
  },
  {
   "cell_type": "code",
   "execution_count": 3,
   "metadata": {},
   "outputs": [],
   "source": [
    "def get_random_samples(digit, m):\n",
    "    X = data[f'train{digit}']\n",
    "    indices = np.arange(X.shape[0])\n",
    "    np.random.shuffle(indices)\n",
    "    samples = X[indices][:m]\n",
    "    labels = np.full((m, 1), digit)\n",
    "    return samples, labels\n",
    "\n",
    "\n",
    "def get_small_sample(samples_per_digit):\n",
    "    # make dictionary smaller sample from data\n",
    "    X = {f\"train{i}\": get_random_samples(i, samples_per_digit)[\n",
    "        0] for i in range(10)}\n",
    "    return X\n",
    "\n",
    "\n",
    "\n",
    "def kmeans(X, k, t):\n",
    "    \"\"\"\n",
    "    :param X: numpy array of size (m, d) containing the test samples\n",
    "    :param k: the number of clusters\n",
    "    :param t: the number of iterations to run\n",
    "    :return: a column vector of length m, where C(i) ∈ {1, . . . , k} is the identity of the cluster in which x_i has been assigned.\n",
    "    \"\"\"\n",
    "    m, d = X.shape\n",
    "    C = [np.array([]) for i in range(k)]\n",
    "    centroids = X[np.random.choice(range(X.shape[0]), size=k)]\n",
    "    for _ in range(t):\n",
    "        for i in range(k):\n",
    "            distance = [xi - centroids[i] for xi in X]\n",
    "            min_x = np.argmin([np.linalg.norm(di) for di in distance])\n",
    "            for j,cluster in enumerate(C):\n",
    "                if min_x in cluster:\n",
    "                    cluster = cluster[cluster != min_x]\n",
    "                    centroids[j] = (1.0/len(cluster)) * sum(cluster)\n",
    "            C[i] = np.append(C[i] ,min_x)\n",
    "            centroids[i] = (1.0/len(C[i])) * sum(C[i]) \n",
    "            \n",
    "    res = [np.argmin([np.linalg.norm(xi - centroid) for centroid in centroids]) for xi in X ]\n",
    "    res = np.array(res)\n",
    "    return res.reshape(-1, 1)\n"
   ]
  },
  {
   "attachments": {},
   "cell_type": "markdown",
   "metadata": {},
   "source": [
    "for each cluster: <br>\n",
    "(1)what is its size <br>\n",
    "(2) which label is most common in it, and <br>\n",
    "(3) what percentage of the points in the cluster have this label.<br>\n",
    "Report the classification error on the sample, that would result if we classified all the points in each cluster using the cluster’s most common label.<br>\n",
    "Explain your calculation.<br>"
   ]
  },
  {
   "cell_type": "code",
   "execution_count": 25,
   "metadata": {},
   "outputs": [],
   "source": [
    "def make_table(data, cols, rows):\n",
    "    fig, ax = plt.subplots(figsize=(12, 2))\n",
    "    ax.axis('tight')\n",
    "    ax.axis('off')\n",
    "    the_table = ax.table(cellText=data, colLabels=cols, rowLabels=rows, cellLoc = 'center', loc='center', fontsize=20)\n",
    "    plt.show()"
   ]
  },
  {
   "cell_type": "code",
   "execution_count": 36,
   "metadata": {},
   "outputs": [
    {
     "name": "stderr",
     "output_type": "stream",
     "text": [
      "g:\\My Drive\\uni\\Machine Learning intro\\Introduction-To-Machine-Learning\\.venv\\lib\\site-packages\\ipykernel_launcher.py:35: RuntimeWarning: invalid value encountered in long_scalars\n",
      "g:\\My Drive\\uni\\Machine Learning intro\\Introduction-To-Machine-Learning\\.venv\\lib\\site-packages\\numpy\\core\\_asarray.py:136: VisibleDeprecationWarning: Creating an ndarray from ragged nested sequences (which is a list-or-tuple of lists-or-tuples-or ndarrays with different lengths or shapes) is deprecated. If you meant to do this, you must specify 'dtype=object' when creating the ndarray\n",
      "  return array(a, dtype, copy=False, order=order, subok=True)\n",
      "g:\\My Drive\\uni\\Machine Learning intro\\Introduction-To-Machine-Learning\\.venv\\lib\\site-packages\\matplotlib\\text.py:1163: FutureWarning: elementwise comparison failed; returning scalar instead, but in the future will perform elementwise comparison\n",
      "  if s != self._text:\n"
     ]
    },
    {
     "data": {
      "image/png": "[encoded data removed]",
      "text/plain": [
       "<Figure size 1200x200 with 1 Axes>"
      ]
     },
     "metadata": {},
     "output_type": "display_data"
    }
   ],
   "source": [
    "def analyze_kmeans_unlabeld():\n",
    "    X = np.concatenate([data[f'train{i}'] for i in range(10)])\n",
    "    Y = np.concatenate(\n",
    "        [np.full((data[f'train{i}'].shape[0], 1), i) for i in range(10)])\n",
    "\n",
    "    indices = np.arange(X.shape[0])\n",
    "    np.random.shuffle(indices)\n",
    "    samples = np.array(X[indices][:1000])\n",
    "    labels = Y[indices][:1000]\n",
    "\n",
    "    kmeans_res = kmeans(samples, 10, 20)\n",
    "\n",
    "    clusters = np.empty((10,), dtype=object)\n",
    "    for i in range(10):\n",
    "        indices = np.where(kmeans_res == i)[0]\n",
    "        clusters[i] = indices\n",
    "\n",
    "    clsuters_size = np.array([len(cluster) for cluster in clusters])\n",
    "\n",
    "    real_labels_per_cluster = [[labels[i]\n",
    "                                for i in cluster] for cluster in clusters]\n",
    "    most_common_label_in_cluster = []\n",
    "    for real_labels in real_labels_per_cluster:\n",
    "        if len(real_labels) > 0:\n",
    "            most_common_label_in_cluster.append(\n",
    "                max(real_labels, key=real_labels.count))\n",
    "        else:\n",
    "            most_common_label_in_cluster.append(-1)\n",
    "    \n",
    "    precent_of_most_common_label_in_cluster = [real_labels.count(most_common_label_in_cluster[i]) / clsuters_size[i] for i,real_labels in enumerate(real_labels_per_cluster)]\n",
    "\n",
    "    errors = []\n",
    "    for i in range(10):\n",
    "        if clsuters_size[i] == 0:\n",
    "            errors.append(0)\n",
    "        else:\n",
    "            errors.append(np.mean((np.array([most_common_label_in_cluster[i] for _ in range(\n",
    "                clsuters_size[i])]).reshape(-1, 1)) != real_labels_per_cluster[i]))\n",
    "\n",
    "    row_headers = [\"cluster size\", \"most common label\", \"precent\", \"error\"]\n",
    "    col_headers = np.array([f\"cluster {i}\" for i in range(10)])\n",
    "\n",
    "    table = np.vstack([clsuters_size, most_common_label_in_cluster, precent_of_most_common_label_in_cluster, errors])\n",
    "\n",
    "    make_table(table, col_headers, row_headers)\n",
    "\n",
    "\n",
    "analyze_kmeans_unlabeld()\n"
   ]
  }
 ],
 "metadata": {
  "kernelspec": {
   "display_name": ".venv",
   "language": "python",
   "name": "python3"
  },
  "language_info": {
   "codemirror_mode": {
    "name": "ipython",
    "version": 3
   },
   "file_extension": ".py",
   "mimetype": "text/x-python",
   "name": "python",
   "nbconvert_exporter": "python",
   "pygments_lexer": "ipython3",
   "version": "3.7.0"
  },
  "orig_nbformat": 4,
  "vscode": {
   "interpreter": {
    "hash": "08ed5fa07ca9cd55beeef47f224bbbd5867169d4ebe490c55adacd701e94c428"
   }
  }
 },
 "nbformat": 4,
 "nbformat_minor": 2
}
