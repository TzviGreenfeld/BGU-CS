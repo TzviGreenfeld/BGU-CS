{
 "cells": [
  {
   "cell_type": "code",
   "execution_count": 5,
   "metadata": {},
   "outputs": [],
   "source": [
    "import numpy as np\n",
    "path = \"G:\\\\My Drive\\\\uni\\\\Machine Learning intro\\\\Introduction-To-Machine-Learning\\\\ex3\\\\mnist_all.npz\"\n",
    "np.set_printoptions(threshold=np.inf)\n"
   ]
  },
  {
   "cell_type": "code",
   "execution_count": 8,
   "metadata": {},
   "outputs": [
    {
     "data": {
      "text/plain": [
       "(5923, 784)"
      ]
     },
     "execution_count": 8,
     "metadata": {},
     "output_type": "execute_result"
    }
   ],
   "source": [
    "data = np.load('mnist_all.npz')\n",
    "\n",
    "def get_random_samples(digit, m):\n",
    "    X = data[f'train{digit}']\n",
    "    indices = np.arange(X.shape[0])\n",
    "    np.random.shuffle(indices)\n",
    "    samples = X[indices][:m]\n",
    "    labels = np.full((m, 1), digit)\n",
    "    return samples, labels\n",
    "\n",
    "\n",
    "def get_small_sample(samples_per_digit):\n",
    "    # make dictionary smaller sample from data\n",
    "    X = {f\"train{i}\": get_random_samples(i, samples_per_digit)[\n",
    "        0] for i in range(10)}\n",
    "    return X\n",
    "\n",
    "\n",
    "small_data = get_small_sample(30)"
   ]
  },
  {
   "cell_type": "code",
   "execution_count": 25,
   "metadata": {},
   "outputs": [
    {
     "data": {
      "text/plain": [
       "(1, 784)"
      ]
     },
     "execution_count": 25,
     "metadata": {},
     "output_type": "execute_result"
    }
   ],
   "source": [
    "def singlelinkage(X, k):\n",
    "    \"\"\"\n",
    "    :param X: numpy array of size (m, d) containing the test samples\n",
    "    :param k: the number of clusters\n",
    "    :return: a column vector of length m, where C(i) ∈ {1, . . . , k} is the identity of the cluster in which x_i has been assigned.\n",
    "    \"\"\"\n",
    "    m, d = X.shape\n",
    "    clusters = np.arange(m).reshape(m, 1)\n",
    "    while len(clusters) > k:\n",
    "        print(len(clusters))\n",
    "        distances = np.array([[cluster_dist(clusters[i], clusters[j]) for j in range(m)] for i in range(m)])\n",
    "        \n",
    "        np.fill_diagonal(distances, np.inf)\n",
    "        min_i, min_j = np.unravel_index(np.argmin(distances), distances.shape)\n",
    "        clusters[min_i] = np.concatenate((clusters[min_i], clusters[min_j]))\n",
    "        clusters = np.delete(clusters, min_j, 0)"
   ]
  },
  {
   "cell_type": "code",
   "execution_count": null,
   "metadata": {},
   "outputs": [],
   "source": [
    "# def cluster_distance(C1, C2,X):\n",
    "#     distance = np.linalg.norm(C1[0]-C2[0])\n",
    "#     for x in C1:\n",
    "#         for y in C2:\n",
    "#             distance = min(distance, np.linalg.norm(X[x]-X[y]))\n",
    "#     return distance\n",
    "        \n",
    "\n",
    "# def singlelinkage(X, k):\n",
    "#     \"\"\"\n",
    "#     :param X: numpy array of size (m, d) containing the test samples\n",
    "#     :param k: the number of clusters\n",
    "#     :return: a column vector of length m, where C(i) ∈ {1, . . . , k} is the identity of the cluster in which x_i has been assigned.\n",
    "#     \"\"\"\n",
    "\n",
    "#     Clusters = [[i] for i in range(len(X))]\n",
    "#     while len(Clusters)>k:\n",
    "#         print(len(Clusters))\n",
    "#         closest_cluster = []\n",
    "#         distance = np.inf\n",
    "#         for i,C1 in enumerate(Clusters):\n",
    "#             for C2 in Clusters[i+1:]:\n",
    "#                 cur_distance = cluster_distance(C1,C2,X)\n",
    "#                 if cur_distance < distance:\n",
    "#                     distance = cur_distance\n",
    "#                     closest_cluster = [C1,C2]\n",
    "#         closest_cluster[0].extend(closest_cluster[1])\n",
    "#         Clusters.remove(closest_cluster[1])\n",
    "    \n",
    "#     res = [0 for i in range(len(X))]\n",
    "#     for j,cluster in enumerate(Clusters):\n",
    "#         for x in cluster:\n",
    "#             res[x]=j\n",
    "\n",
    "#     res = np.array(res)\n",
    "#     return res.reshape(-1,1)"
   ]
  }
 ],
 "metadata": {
  "kernelspec": {
   "display_name": ".venv",
   "language": "python",
   "name": "python3"
  },
  "language_info": {
   "codemirror_mode": {
    "name": "ipython",
    "version": 3
   },
   "file_extension": ".py",
   "mimetype": "text/x-python",
   "name": "python",
   "nbconvert_exporter": "python",
   "pygments_lexer": "ipython3",
   "version": "3.7.0 (v3.7.0:1bf9cc5093, Jun 27 2018, 04:59:51) [MSC v.1914 64 bit (AMD64)]"
  },
  "orig_nbformat": 4,
  "vscode": {
   "interpreter": {
    "hash": "08ed5fa07ca9cd55beeef47f224bbbd5867169d4ebe490c55adacd701e94c428"
   }
  }
 },
 "nbformat": 4,
 "nbformat_minor": 2
}
