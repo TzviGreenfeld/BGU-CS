{
 "cells": [
  {
   "cell_type": "code",
   "execution_count": 16,
   "metadata": {},
   "outputs": [],
   "source": [
    "import numpy as np\n",
    "import matplotlib.pyplot as plt\n",
    "path = \"G:\\\\My Drive\\\\uni\\\\Machine Learning intro\\\\Introduction-To-Machine-Learning\\\\ex3\\\\mnist_all.npz\"\n",
    "np.set_printoptions(threshold=np.inf)\n",
    "data = np.load(path)"
   ]
  },
  {
   "cell_type": "code",
   "execution_count": 17,
   "metadata": {},
   "outputs": [],
   "source": [
    "def get_random_samples(digit, m):\n",
    "    X = data[f'train{digit}']\n",
    "    indices = np.arange(X.shape[0])\n",
    "    np.random.shuffle(indices)\n",
    "    samples = X[indices][:m]\n",
    "    labels = np.full((m, 1), digit)\n",
    "    return samples, labels\n",
    "\n",
    "\n",
    "def get_small_sample(samples_per_digit):\n",
    "    # make dictionary smaller sample from data\n",
    "    X = {f\"train{i}\": get_random_samples(i, samples_per_digit)[\n",
    "        0] for i in range(10)}\n",
    "    return X\n",
    "\n",
    "\n",
    "def cluster_dist(c1, c2):\n",
    "    return np.array([np.linalg.norm(x1 - x2) for x1 in c1 for x2 in c2]).min()\n",
    "\n",
    "\n",
    "def singlelinkage(X, k):\n",
    "    \"\"\"\n",
    "    :param X: numpy array of size (m, d) containing the test samples\n",
    "    :param k: the number of clusters\n",
    "    :return: a column vector of length m, where C(i) ∈ {1, . . . , k} is the identity of the cluster in which x_i has been assigned.\n",
    "    \"\"\"\n",
    "    m, d = X.shape\n",
    "    clusters = [np.array([i]) for i in range(m)]\n",
    "    while len(clusters) > k:\n",
    "        distances = np.array([[cluster_dist(clusters[i], clusters[j])\n",
    "                               for j in range(len(clusters))] for i in range(len(clusters))])\n",
    "        np.fill_diagonal(distances, np.inf)\n",
    "        min_i, min_j = np.unravel_index(np.argmin(distances), distances.shape)\n",
    "        clusters[min_i] = np.concatenate((clusters[min_i], clusters[min_j]))\n",
    "        clusters.pop(min_j)\n",
    "    res = np.zeros((m, 1))\n",
    "    for i, c in enumerate(clusters):\n",
    "        for x_index in c:\n",
    "            res[x_index] = i\n",
    "    return res\n",
    "                \n"
   ]
  },
  {
   "attachments": {},
   "cell_type": "markdown",
   "metadata": {},
   "source": [
    "for each cluster: <br>\n",
    "(1)what is its size <br>\n",
    "(2) which label is most common in it, and <br>\n",
    "(3) what percentage of the points in the cluster have this label.<br>\n",
    "Report the classification error on the sample, that would result if we classified all the points in each cluster using the cluster’s most common label.<br>\n",
    "Explain your calculation.<br>"
   ]
  },
  {
   "cell_type": "code",
   "execution_count": 18,
   "metadata": {},
   "outputs": [],
   "source": [
    "def make_table(data, cols, rows):\n",
    "    fig, ax = plt.subplots(figsize=(12, 2))\n",
    "    ax.axis('tight')\n",
    "    ax.axis('off')\n",
    "    the_table = ax.table(cellText=data, colLabels=cols, rowLabels=rows, cellLoc = 'center', loc='center')\n",
    "    plt.show()"
   ]
  },
  {
   "cell_type": "code",
   "execution_count": 19,
   "metadata": {},
   "outputs": [],
   "source": [
    "def analyze_single_linkage_unlabeld():\n",
    "    X = np.concatenate([data[f'train{i}'] for i in range(10)])\n",
    "    Y = np.concatenate([np.full((data[f'train{i}'].shape[0], 1), i) for i in range(10)])\n",
    "    indices = np.arange(X.shape[0])\n",
    "    np.random.shuffle(indices)\n",
    "    samples = np.array(X[indices][:300])\n",
    "    labels = Y[indices][:300]\n",
    "\n",
    "    single_linkage_res = singlelinkage(samples, 10)\n",
    "    clusters = np.empty((10,), dtype=object)\n",
    "    for i in range(10):\n",
    "        indices = np.where(single_linkage_res == i)[0]\n",
    "        clusters[i] = indices\n",
    "\n",
    "    clsuters_size = np.array([len(cluster) for cluster in clusters])\n",
    "\n",
    "    real_labels_per_cluster = [[labels[i]\n",
    "                                for i in cluster] for cluster in clusters]\n",
    "    most_common_label_in_cluster = []\n",
    "    for real_labels in real_labels_per_cluster:\n",
    "        if len(real_labels) > 0:\n",
    "            most_common_label_in_cluster.append(\n",
    "                max(real_labels, key=real_labels.count))\n",
    "        else:\n",
    "            most_common_label_in_cluster.append(-1)\n",
    "    \n",
    "    precent_of_most_common_label_in_cluster = [real_labels.count(most_common_label_in_cluster[i]) / clsuters_size[i] for i,real_labels in enumerate(real_labels_per_cluster)]\n",
    "    # format the precent to 4 digits after the dot\n",
    "    precent_of_most_common_label_in_cluster = [f'{precent:.4f}' for precent in precent_of_most_common_label_in_cluster]\n",
    "    errors = []\n",
    "    for i in range(10):\n",
    "        if clsuters_size[i] == 0:\n",
    "            errors.append(0)\n",
    "        else:\n",
    "            errors.append(np.mean((np.array([most_common_label_in_cluster[i] for _ in range(\n",
    "                clsuters_size[i])]).reshape(-1, 1)) != real_labels_per_cluster[i]))\n",
    "\n",
    "    table = [clsuters_size, most_common_label_in_cluster, precent_of_most_common_label_in_cluster, errors]\n",
    "    return table   "
   ]
  },
  {
   "cell_type": "code",
   "execution_count": 20,
   "metadata": {},
   "outputs": [],
   "source": [
    "table_data = analyze_single_linkage_unlabeld()\n"
   ]
  },
  {
   "cell_type": "code",
   "execution_count": 24,
   "metadata": {},
   "outputs": [
    {
     "data": {
      "text/plain": [
       "[array([291,   1,   1,   1,   1,   1,   1,   1,   1,   1]),\n",
       " array([[3, 5, 5, 3, 4, 0, 2, 4, 2, 3]]),\n",
       " ['0.1615',\n",
       "  '1.0000',\n",
       "  '1.0000',\n",
       "  '1.0000',\n",
       "  '1.0000',\n",
       "  '1.0000',\n",
       "  '1.0000',\n",
       "  '1.0000',\n",
       "  '1.0000',\n",
       "  '1.0000'],\n",
       " array(['0.8385', '0.0000', '0.0000', '0.0000', '0.0000', '0.0000',\n",
       "        '0.0000', '0.0000', '0.0000', '0.0000'], dtype='<U6')]"
      ]
     },
     "execution_count": 24,
     "metadata": {},
     "output_type": "execute_result"
    }
   ],
   "source": [
    "new_table_data = table_data.copy()\n",
    "new_table_data[1] = np.array(table_data[1]).T\n",
    "new_table_data[3] = np.array([f'{error:.4f}' for error in table_data[3]])\n",
    "new_table_data"
   ]
  },
  {
   "cell_type": "code",
   "execution_count": 25,
   "metadata": {},
   "outputs": [],
   "source": [
    "table = np.vstack(new_table_data)"
   ]
  },
  {
   "cell_type": "code",
   "execution_count": 26,
   "metadata": {},
   "outputs": [
    {
     "data": {
      "image/png": "[encoded data removed]",
      "text/plain": [
       "<Figure size 1200x200 with 1 Axes>"
      ]
     },
     "metadata": {},
     "output_type": "display_data"
    }
   ],
   "source": [
    "row_headers = [\"cluster size\", \"most common label\", \"%\", \"error\"]\n",
    "col_headers = np.array([f\"cluster {i}\" for i in range(10)])\n",
    "make_table(table, col_headers, row_headers)"
   ]
  }
 ],
 "metadata": {
  "kernelspec": {
   "display_name": ".venv",
   "language": "python",
   "name": "python3"
  },
  "language_info": {
   "codemirror_mode": {
    "name": "ipython",
    "version": 3
   },
   "file_extension": ".py",
   "mimetype": "text/x-python",
   "name": "python",
   "nbconvert_exporter": "python",
   "pygments_lexer": "ipython3",
   "version": "3.7.0"
  },
  "orig_nbformat": 4,
  "vscode": {
   "interpreter": {
    "hash": "08ed5fa07ca9cd55beeef47f224bbbd5867169d4ebe490c55adacd701e94c428"
   }
  }
 },
 "nbformat": 4,
 "nbformat_minor": 2
}
